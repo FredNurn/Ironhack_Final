{
 "cells": [
  {
   "cell_type": "code",
   "execution_count": 1,
   "id": "33275dbc-caef-4d58-b619-d7178a176cce",
   "metadata": {},
   "outputs": [],
   "source": [
    "import mysql.connector\n",
    "import os\n",
    "import sys\n",
    "import numpy as np"
   ]
  },
  {
   "cell_type": "code",
   "execution_count": 2,
   "id": "7de89c1c-baf5-4e94-be18-177b8d49e88b",
   "metadata": {},
   "outputs": [],
   "source": [
    "def connect_server():\n",
    "    try:\n",
    "        connection = mysql.connector.connect(option_files=\"connection.ini\")\n",
    "    except mysql.connector.Error as err:\n",
    "        print(err.errno)\n",
    "    return connection"
   ]
  },
  {
   "cell_type": "code",
   "execution_count": 3,
   "id": "7ada5223-efbe-432d-8efb-4128ecf71f32",
   "metadata": {},
   "outputs": [],
   "source": [
    "def disconnect_server(connection):\n",
    "    if connection.is_connected():\n",
    "        connection.close()"
   ]
  },
  {
   "cell_type": "code",
   "execution_count": 4,
   "id": "969bd25f-2a0b-4ba9-9843-e9eb564e89f6",
   "metadata": {},
   "outputs": [],
   "source": [
    "def use_database(database,connection,cursor=None):\n",
    "    needcursor = cursor == None\n",
    "   \n",
    "    try:\n",
    "        if needcursor:\n",
    "            cursor = connection.cursor()\n",
    "            cursor.execute(f\"USE {database}\")\n",
    "            connection.commit()\n",
    "        if needcursor:\n",
    "            cursor.close()\n",
    "    \n",
    "    except mysql.connector.Error as err:\n",
    "        print(err.errno)"
   ]
  },
  {
   "cell_type": "markdown",
   "id": "a5f59635-ebb1-4fdb-9926-4543b66bd3cf",
   "metadata": {},
   "source": [
    "<br><h3>Fetch article from database<br><br>"
   ]
  },
  {
   "cell_type": "code",
   "execution_count": 5,
   "id": "0dd1b2f6-655a-4c23-8274-9254a6d642e2",
   "metadata": {},
   "outputs": [],
   "source": [
    "def count_tran_article_entries ():\n",
    "    connection = connect_server()\n",
    "    cursor = connection.cursor()\n",
    "    use_database(\"automated_journalist\",connection)\n",
    "    \n",
    "    query = ('SELECT idtran_article FROM tran_article')\n",
    "    cursor.execute(query)\n",
    "    result = cursor.fetchall()\n",
    "    cursor.close()\n",
    "    disconnect_server(connection)\n",
    "    return len(result)"
   ]
  },
  {
   "cell_type": "code",
   "execution_count": 6,
   "id": "7b7d81a6-1404-4099-b506-ddaaa3f78e9c",
   "metadata": {},
   "outputs": [],
   "source": [
    "def count_orig_article_entries ():\n",
    "    connection = connect_server()\n",
    "    cursor = connection.cursor()\n",
    "    use_database(\"automated_journalist\",connection)\n",
    "    \n",
    "    query = ('SELECT idorig_article FROM orig_article')\n",
    "    cursor.execute(query)\n",
    "    result = cursor.fetchall()\n",
    "    cursor.close()\n",
    "    disconnect_server(connection)\n",
    "    return len(result)"
   ]
  },
  {
   "cell_type": "code",
   "execution_count": 7,
   "id": "7d709e90-fb52-4260-a644-647ad6b7e918",
   "metadata": {},
   "outputs": [],
   "source": [
    "def retrieve_article (idorig_article):\n",
    "    connection = connect_server()\n",
    "    cursor = connection.cursor()\n",
    "    use_database(\"automated_journalist\",connection)\n",
    "    \n",
    "    query = ('SELECT orig_article_text FROM orig_article WHERE idorig_article = %s')\n",
    "    val = ([idorig_article])\n",
    "    cursor.execute(query,val)\n",
    "    result = cursor.fetchall()\n",
    "    cursor.close()\n",
    "    disconnect_server(connection)\n",
    "    return result[0][0]"
   ]
  },
  {
   "cell_type": "code",
   "execution_count": null,
   "id": "5106799a-50b5-4f90-82af-6a3e9c00ddc5",
   "metadata": {},
   "outputs": [],
   "source": []
  },
  {
   "cell_type": "markdown",
   "id": "0a640a02-ee4b-42de-bfc0-8879119a242d",
   "metadata": {},
   "source": [
    "<br><h3>Remodel through API<br>"
   ]
  },
  {
   "cell_type": "code",
   "execution_count": 16,
   "id": "77685c57-dded-4a96-a1f6-8142c5a7e2e5",
   "metadata": {},
   "outputs": [],
   "source": [
    "import os\n",
    "import openai\n",
    "openai.api_key = open(\"oai.txt\", \"r\").read()\n",
    "from datetime import date"
   ]
  },
  {
   "cell_type": "code",
   "execution_count": 33,
   "id": "df561bd7-2346-4d8e-ab4a-1cf520d36523",
   "metadata": {},
   "outputs": [],
   "source": [
    "def convert_article():\n",
    "    completion =openai.ChatCompletion.create(\n",
    "        model=\"gpt-3.5-turbo\", \n",
    "        messages=[{\"role\":\"system\",\n",
    "               \"content\":\"You are a journalist in the organic foods sector, working for an organic trade journal in europe. Your job is to convert press releases from various public agencies and companies into short journalistic texts of 100 to 200 words and translate them into english. Articles must always quote the source of the information.The primary objective is to inform professionals, primarily management, in the organic industry about current developments in the industry, information about upcoming or past events or new products and services. If aplicable, use information about Who, What, When, Where, Why.  Adhere to the principles of Simplicity and Brevity, Precision, Objectivity and Factual, Fairness and Balance and use the Inverted pyramid, meaning arrange the information in the article in descending order of importance, or newsworthiness. Consider yourself to be benevolently critical: While emphasising positive developments to promote action and progress, you always look out for challenges and criticism in order to improve your readers' companies and the industry as a whole. The generated article must not indicate, that the original source was a press release and must not contain the original publishing date.\"},\n",
    "              {\"role\":\"user\",\"content\": \"Please transform the following Article: \"+orig_article}],\n",
    "        temperature=0.5)\n",
    "\n",
    "    tran_article=completion.choices[0].message.content\n",
    "    return tran_article_list.append(tran_article)\n"
   ]
  },
  {
   "cell_type": "markdown",
   "id": "3774ceea-30ef-4313-97cf-15515d1084bc",
   "metadata": {},
   "source": [
    "<br><h3>Transfer to Database"
   ]
  },
  {
   "cell_type": "code",
   "execution_count": 34,
   "id": "f11c4880-af13-4718-a5f1-0f8bd7c8e99a",
   "metadata": {},
   "outputs": [],
   "source": [
    "def retrieve_idorig_article ():\n",
    "    connection = connect_server()\n",
    "    cursor = connection.cursor()\n",
    "    use_database(\"automated_journalist\",connection)\n",
    "    \n",
    "    query = ('SELECT idorig_article FROM orig_article WHERE orig_article_text = %s')\n",
    "    val = ([orig_article])\n",
    "    cursor.execute(query,val)\n",
    "    result = cursor.fetchall()\n",
    "    cursor.close()\n",
    "    disconnect_server(connection)\n",
    "    return result[0][0]"
   ]
  },
  {
   "cell_type": "code",
   "execution_count": 35,
   "id": "81c99b52-089e-4ac6-bd36-86d4b6c525f1",
   "metadata": {},
   "outputs": [],
   "source": [
    "def insert_tran_article(tran_article):  \n",
    "    connection = connect_server()\n",
    "    cursor = connection.cursor()\n",
    "    use_database(\"automated_journalist\",connection)\n",
    "    add_entry = (\"INSERT INTO tran_article (tran_article_text, idorig_article, creation_date) VALUES (%s, %s, %s)\")\n",
    "    data_entry = (tran_article, retrieve_idorig_article(), date.today())\n",
    "    cursor.execute(add_entry, data_entry)\n",
    "    connection.commit()\n",
    "    cursor.close()\n",
    "    disconnect_server(connection)"
   ]
  },
  {
   "cell_type": "code",
   "execution_count": 36,
   "id": "32125719-df73-4dbc-8b16-e36ef15db2d6",
   "metadata": {},
   "outputs": [],
   "source": [
    "while count_tran_article_entries() < count_orig_article_entries ():\n",
    "    tran_article_list=[]\n",
    "    orig_article = retrieve_article (count_tran_article_entries()+1)\n",
    "    convert_article()\n",
    "    insert_tran_article(tran_article_list[0])"
   ]
  },
  {
   "cell_type": "markdown",
   "id": "50947e96-90c5-4100-adc1-8fa2baa8d35b",
   "metadata": {},
   "source": [
    "# clears table\n",
    "connection = connect_server()\n",
    "cursor = connection.cursor()\n",
    "use_database(\"automated_journalist\",connection)\n",
    "cursor.execute(\"TRUNCATE TABLE tran_article\")\n",
    "connection.commit()\n",
    "cursor.close()\n",
    "disconnect_server(connection)"
   ]
  },
  {
   "cell_type": "markdown",
   "id": "7cdf8fcf-948a-4aff-bbb1-b2bed91b7431",
   "metadata": {},
   "source": [
    "<br><h3>Generate headline"
   ]
  },
  {
   "cell_type": "code",
   "execution_count": 9,
   "id": "f0a7e9f7-e33a-470c-aa00-460d9ea6ec30",
   "metadata": {},
   "outputs": [],
   "source": [
    "def create_headline():\n",
    "    completion =openai.ChatCompletion.create(\n",
    "        model=\"gpt-3.5-turbo\", \n",
    "        messages=[{\"role\":\"system\",\n",
    "               \"content\":\"You are a SEO Specialist in the organic foods sector, working for an organic trade journal in europe. Your job is to find the most cathing and engaging Headlines for given articles in 10 words or less. Do not use quotation marks in beginning and end of the headline. Targent group are professionals, primarily management, in the organic industry.\"},\n",
    "              {\"role\":\"user\",\"content\": \"Please find a headline for the following Article: \"+tran_article}],\n",
    "        temperature=0.5)\n",
    "\n",
    "    title=completion.choices[0].message.content\n",
    "    return title_list.append(title)"
   ]
  },
  {
   "cell_type": "code",
   "execution_count": 10,
   "id": "4548e305-b91e-4d18-9553-4e2004f12ebc",
   "metadata": {},
   "outputs": [],
   "source": [
    "def insert_headline():  \n",
    "    connection = connect_server()\n",
    "    cursor = connection.cursor()\n",
    "    use_database(\"automated_journalist\",connection)\n",
    "    add_entry = (\"UPDATE tran_article SET title = %s WHERE tran_article_text = %s\")\n",
    "    data_entry = (title_list[0].strip('\\\"'), tran_article)\n",
    "    cursor.execute(add_entry, data_entry)\n",
    "    connection.commit()\n",
    "    cursor.close()\n",
    "    disconnect_server(connection)\n"
   ]
  },
  {
   "cell_type": "code",
   "execution_count": 11,
   "id": "fd475322-2a44-427a-b19d-854201c18139",
   "metadata": {},
   "outputs": [],
   "source": [
    "def count_tran_title_entries ():\n",
    "    connection = connect_server()\n",
    "    cursor = connection.cursor()\n",
    "    use_database(\"automated_journalist\",connection)\n",
    "    \n",
    "    query = ('SELECT title FROM tran_article WHERE title IS NOT NULL')\n",
    "    cursor.execute(query)\n",
    "    result = cursor.fetchall()\n",
    "    cursor.close()\n",
    "    disconnect_server(connection)\n",
    "    return len(result)"
   ]
  },
  {
   "cell_type": "code",
   "execution_count": 12,
   "id": "9cb65faf-6106-4755-a9c1-d0a277f2c4ef",
   "metadata": {},
   "outputs": [],
   "source": [
    "def retrieve_tran_article (idtran_article):\n",
    "    connection = connect_server()\n",
    "    cursor = connection.cursor()\n",
    "    use_database(\"automated_journalist\",connection)\n",
    "    \n",
    "    query = ('SELECT orig_article_text FROM orig_article WHERE idorig_article = %s')\n",
    "    val = ([idtran_article])\n",
    "    cursor.execute(query,val)\n",
    "    result = cursor.fetchall()\n",
    "    cursor.close()\n",
    "    disconnect_server(connection)\n",
    "    return result[0][0]"
   ]
  },
  {
   "cell_type": "code",
   "execution_count": 14,
   "id": "5b703b26-bd3e-453a-a390-98fa466a6f76",
   "metadata": {},
   "outputs": [
    {
     "data": {
      "text/plain": [
       "46"
      ]
     },
     "execution_count": 14,
     "metadata": {},
     "output_type": "execute_result"
    }
   ],
   "source": []
  },
  {
   "cell_type": "code",
   "execution_count": 15,
   "id": "023b2aa1-8a5c-4619-bb22-008be2a9c0ba",
   "metadata": {},
   "outputs": [
    {
     "ename": "RateLimitError",
     "evalue": "That model is currently overloaded with other requests. You can retry your request, or contact us through our help center at help.openai.com if the error persists. (Please include the request ID 984484ebf851a5931b948cfff55cfc13 in your message.)",
     "output_type": "error",
     "traceback": [
      "\u001b[1;31m---------------------------------------------------------------------------\u001b[0m",
      "\u001b[1;31mRateLimitError\u001b[0m                            Traceback (most recent call last)",
      "\u001b[1;32m~\\AppData\\Local\\Temp\\ipykernel_4052\\1704574533.py\u001b[0m in \u001b[0;36m<module>\u001b[1;34m\u001b[0m\n\u001b[0;32m      2\u001b[0m     \u001b[0mtitle_list\u001b[0m\u001b[1;33m=\u001b[0m\u001b[1;33m[\u001b[0m\u001b[1;33m]\u001b[0m\u001b[1;33m\u001b[0m\u001b[1;33m\u001b[0m\u001b[0m\n\u001b[0;32m      3\u001b[0m     \u001b[0mtran_article\u001b[0m \u001b[1;33m=\u001b[0m \u001b[0mretrieve_tran_article\u001b[0m\u001b[1;33m(\u001b[0m\u001b[0mcount_tran_title_entries\u001b[0m \u001b[1;33m(\u001b[0m\u001b[1;33m)\u001b[0m\u001b[1;33m+\u001b[0m\u001b[1;36m1\u001b[0m\u001b[1;33m)\u001b[0m\u001b[1;33m\u001b[0m\u001b[1;33m\u001b[0m\u001b[0m\n\u001b[1;32m----> 4\u001b[1;33m     \u001b[0mcreate_headline\u001b[0m\u001b[1;33m(\u001b[0m\u001b[1;33m)\u001b[0m\u001b[1;33m\u001b[0m\u001b[1;33m\u001b[0m\u001b[0m\n\u001b[0m\u001b[0;32m      5\u001b[0m     \u001b[0minsert_headline\u001b[0m\u001b[1;33m(\u001b[0m\u001b[1;33m)\u001b[0m\u001b[1;33m\u001b[0m\u001b[1;33m\u001b[0m\u001b[0m\n",
      "\u001b[1;32m~\\AppData\\Local\\Temp\\ipykernel_4052\\44253717.py\u001b[0m in \u001b[0;36mcreate_headline\u001b[1;34m()\u001b[0m\n\u001b[0;32m      1\u001b[0m \u001b[1;32mdef\u001b[0m \u001b[0mcreate_headline\u001b[0m\u001b[1;33m(\u001b[0m\u001b[1;33m)\u001b[0m\u001b[1;33m:\u001b[0m\u001b[1;33m\u001b[0m\u001b[1;33m\u001b[0m\u001b[0m\n\u001b[1;32m----> 2\u001b[1;33m     completion =openai.ChatCompletion.create(\n\u001b[0m\u001b[0;32m      3\u001b[0m         \u001b[0mmodel\u001b[0m\u001b[1;33m=\u001b[0m\u001b[1;34m\"gpt-3.5-turbo\"\u001b[0m\u001b[1;33m,\u001b[0m\u001b[1;33m\u001b[0m\u001b[1;33m\u001b[0m\u001b[0m\n\u001b[0;32m      4\u001b[0m         messages=[{\"role\":\"system\",\n\u001b[0;32m      5\u001b[0m                \"content\":\"You are a SEO Specialist in the organic foods sector, working for an organic trade journal in europe. Your job is to find the most cathing and engaging Headlines for given articles in 10 words or less. Do not use quotation marks in beginning and end of the headline. Targent group are professionals, primarily management, in the organic industry.\"},\n",
      "\u001b[1;32m~\\AppData\\Roaming\\Python\\Python39\\site-packages\\openai\\api_resources\\chat_completion.py\u001b[0m in \u001b[0;36mcreate\u001b[1;34m(cls, *args, **kwargs)\u001b[0m\n\u001b[0;32m     23\u001b[0m         \u001b[1;32mwhile\u001b[0m \u001b[1;32mTrue\u001b[0m\u001b[1;33m:\u001b[0m\u001b[1;33m\u001b[0m\u001b[1;33m\u001b[0m\u001b[0m\n\u001b[0;32m     24\u001b[0m             \u001b[1;32mtry\u001b[0m\u001b[1;33m:\u001b[0m\u001b[1;33m\u001b[0m\u001b[1;33m\u001b[0m\u001b[0m\n\u001b[1;32m---> 25\u001b[1;33m                 \u001b[1;32mreturn\u001b[0m \u001b[0msuper\u001b[0m\u001b[1;33m(\u001b[0m\u001b[1;33m)\u001b[0m\u001b[1;33m.\u001b[0m\u001b[0mcreate\u001b[0m\u001b[1;33m(\u001b[0m\u001b[1;33m*\u001b[0m\u001b[0margs\u001b[0m\u001b[1;33m,\u001b[0m \u001b[1;33m**\u001b[0m\u001b[0mkwargs\u001b[0m\u001b[1;33m)\u001b[0m\u001b[1;33m\u001b[0m\u001b[1;33m\u001b[0m\u001b[0m\n\u001b[0m\u001b[0;32m     26\u001b[0m             \u001b[1;32mexcept\u001b[0m \u001b[0mTryAgain\u001b[0m \u001b[1;32mas\u001b[0m \u001b[0me\u001b[0m\u001b[1;33m:\u001b[0m\u001b[1;33m\u001b[0m\u001b[1;33m\u001b[0m\u001b[0m\n\u001b[0;32m     27\u001b[0m                 \u001b[1;32mif\u001b[0m \u001b[0mtimeout\u001b[0m \u001b[1;32mis\u001b[0m \u001b[1;32mnot\u001b[0m \u001b[1;32mNone\u001b[0m \u001b[1;32mand\u001b[0m \u001b[0mtime\u001b[0m\u001b[1;33m.\u001b[0m\u001b[0mtime\u001b[0m\u001b[1;33m(\u001b[0m\u001b[1;33m)\u001b[0m \u001b[1;33m>\u001b[0m \u001b[0mstart\u001b[0m \u001b[1;33m+\u001b[0m \u001b[0mtimeout\u001b[0m\u001b[1;33m:\u001b[0m\u001b[1;33m\u001b[0m\u001b[1;33m\u001b[0m\u001b[0m\n",
      "\u001b[1;32m~\\AppData\\Roaming\\Python\\Python39\\site-packages\\openai\\api_resources\\abstract\\engine_api_resource.py\u001b[0m in \u001b[0;36mcreate\u001b[1;34m(cls, api_key, api_base, api_type, request_id, api_version, organization, **params)\u001b[0m\n\u001b[0;32m    151\u001b[0m         )\n\u001b[0;32m    152\u001b[0m \u001b[1;33m\u001b[0m\u001b[0m\n\u001b[1;32m--> 153\u001b[1;33m         response, _, api_key = requestor.request(\n\u001b[0m\u001b[0;32m    154\u001b[0m             \u001b[1;34m\"post\"\u001b[0m\u001b[1;33m,\u001b[0m\u001b[1;33m\u001b[0m\u001b[1;33m\u001b[0m\u001b[0m\n\u001b[0;32m    155\u001b[0m             \u001b[0murl\u001b[0m\u001b[1;33m,\u001b[0m\u001b[1;33m\u001b[0m\u001b[1;33m\u001b[0m\u001b[0m\n",
      "\u001b[1;32m~\\AppData\\Roaming\\Python\\Python39\\site-packages\\openai\\api_requestor.py\u001b[0m in \u001b[0;36mrequest\u001b[1;34m(self, method, url, params, headers, files, stream, request_id, request_timeout)\u001b[0m\n\u001b[0;32m    228\u001b[0m             \u001b[0mrequest_timeout\u001b[0m\u001b[1;33m=\u001b[0m\u001b[0mrequest_timeout\u001b[0m\u001b[1;33m,\u001b[0m\u001b[1;33m\u001b[0m\u001b[1;33m\u001b[0m\u001b[0m\n\u001b[0;32m    229\u001b[0m         )\n\u001b[1;32m--> 230\u001b[1;33m         \u001b[0mresp\u001b[0m\u001b[1;33m,\u001b[0m \u001b[0mgot_stream\u001b[0m \u001b[1;33m=\u001b[0m \u001b[0mself\u001b[0m\u001b[1;33m.\u001b[0m\u001b[0m_interpret_response\u001b[0m\u001b[1;33m(\u001b[0m\u001b[0mresult\u001b[0m\u001b[1;33m,\u001b[0m \u001b[0mstream\u001b[0m\u001b[1;33m)\u001b[0m\u001b[1;33m\u001b[0m\u001b[1;33m\u001b[0m\u001b[0m\n\u001b[0m\u001b[0;32m    231\u001b[0m         \u001b[1;32mreturn\u001b[0m \u001b[0mresp\u001b[0m\u001b[1;33m,\u001b[0m \u001b[0mgot_stream\u001b[0m\u001b[1;33m,\u001b[0m \u001b[0mself\u001b[0m\u001b[1;33m.\u001b[0m\u001b[0mapi_key\u001b[0m\u001b[1;33m\u001b[0m\u001b[1;33m\u001b[0m\u001b[0m\n\u001b[0;32m    232\u001b[0m \u001b[1;33m\u001b[0m\u001b[0m\n",
      "\u001b[1;32m~\\AppData\\Roaming\\Python\\Python39\\site-packages\\openai\\api_requestor.py\u001b[0m in \u001b[0;36m_interpret_response\u001b[1;34m(self, result, stream)\u001b[0m\n\u001b[0;32m    622\u001b[0m         \u001b[1;32melse\u001b[0m\u001b[1;33m:\u001b[0m\u001b[1;33m\u001b[0m\u001b[1;33m\u001b[0m\u001b[0m\n\u001b[0;32m    623\u001b[0m             return (\n\u001b[1;32m--> 624\u001b[1;33m                 self._interpret_response_line(\n\u001b[0m\u001b[0;32m    625\u001b[0m                     \u001b[0mresult\u001b[0m\u001b[1;33m.\u001b[0m\u001b[0mcontent\u001b[0m\u001b[1;33m.\u001b[0m\u001b[0mdecode\u001b[0m\u001b[1;33m(\u001b[0m\u001b[1;34m\"utf-8\"\u001b[0m\u001b[1;33m)\u001b[0m\u001b[1;33m,\u001b[0m\u001b[1;33m\u001b[0m\u001b[1;33m\u001b[0m\u001b[0m\n\u001b[0;32m    626\u001b[0m                     \u001b[0mresult\u001b[0m\u001b[1;33m.\u001b[0m\u001b[0mstatus_code\u001b[0m\u001b[1;33m,\u001b[0m\u001b[1;33m\u001b[0m\u001b[1;33m\u001b[0m\u001b[0m\n",
      "\u001b[1;32m~\\AppData\\Roaming\\Python\\Python39\\site-packages\\openai\\api_requestor.py\u001b[0m in \u001b[0;36m_interpret_response_line\u001b[1;34m(self, rbody, rcode, rheaders, stream)\u001b[0m\n\u001b[0;32m    685\u001b[0m         \u001b[0mstream_error\u001b[0m \u001b[1;33m=\u001b[0m \u001b[0mstream\u001b[0m \u001b[1;32mand\u001b[0m \u001b[1;34m\"error\"\u001b[0m \u001b[1;32min\u001b[0m \u001b[0mresp\u001b[0m\u001b[1;33m.\u001b[0m\u001b[0mdata\u001b[0m\u001b[1;33m\u001b[0m\u001b[1;33m\u001b[0m\u001b[0m\n\u001b[0;32m    686\u001b[0m         \u001b[1;32mif\u001b[0m \u001b[0mstream_error\u001b[0m \u001b[1;32mor\u001b[0m \u001b[1;32mnot\u001b[0m \u001b[1;36m200\u001b[0m \u001b[1;33m<=\u001b[0m \u001b[0mrcode\u001b[0m \u001b[1;33m<\u001b[0m \u001b[1;36m300\u001b[0m\u001b[1;33m:\u001b[0m\u001b[1;33m\u001b[0m\u001b[1;33m\u001b[0m\u001b[0m\n\u001b[1;32m--> 687\u001b[1;33m             raise self.handle_error_response(\n\u001b[0m\u001b[0;32m    688\u001b[0m                 \u001b[0mrbody\u001b[0m\u001b[1;33m,\u001b[0m \u001b[0mrcode\u001b[0m\u001b[1;33m,\u001b[0m \u001b[0mresp\u001b[0m\u001b[1;33m.\u001b[0m\u001b[0mdata\u001b[0m\u001b[1;33m,\u001b[0m \u001b[0mrheaders\u001b[0m\u001b[1;33m,\u001b[0m \u001b[0mstream_error\u001b[0m\u001b[1;33m=\u001b[0m\u001b[0mstream_error\u001b[0m\u001b[1;33m\u001b[0m\u001b[1;33m\u001b[0m\u001b[0m\n\u001b[0;32m    689\u001b[0m             )\n",
      "\u001b[1;31mRateLimitError\u001b[0m: That model is currently overloaded with other requests. You can retry your request, or contact us through our help center at help.openai.com if the error persists. (Please include the request ID 984484ebf851a5931b948cfff55cfc13 in your message.)"
     ]
    }
   ],
   "source": [
    "while count_tran_title_entries () < count_tran_article_entries():\n",
    "    title_list=[]\n",
    "    tran_article = retrieve_tran_article(count_tran_title_entries ()+1)\n",
    "    create_headline()\n",
    "    insert_headline()"
   ]
  },
  {
   "cell_type": "code",
   "execution_count": null,
   "id": "0811a8c7-ddfc-4623-8d4e-a1dc25f0f7f2",
   "metadata": {},
   "outputs": [],
   "source": [
    "count_tran_article_entries()"
   ]
  },
  {
   "cell_type": "code",
   "execution_count": null,
   "id": "b66ae10e-8b9e-4c6f-a073-073c640de45c",
   "metadata": {},
   "outputs": [],
   "source": [
    "count_tran_title_entries ()"
   ]
  },
  {
   "cell_type": "code",
   "execution_count": null,
   "id": "71bf0ad9-b2ec-4e79-be37-9afa39ce9a30",
   "metadata": {},
   "outputs": [],
   "source": []
  }
 ],
 "metadata": {
  "kernelspec": {
   "display_name": "Python 3 (ipykernel)",
   "language": "python",
   "name": "python3"
  },
  "language_info": {
   "codemirror_mode": {
    "name": "ipython",
    "version": 3
   },
   "file_extension": ".py",
   "mimetype": "text/x-python",
   "name": "python",
   "nbconvert_exporter": "python",
   "pygments_lexer": "ipython3",
   "version": "3.9.13"
  }
 },
 "nbformat": 4,
 "nbformat_minor": 5
}
