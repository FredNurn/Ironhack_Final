{
 "cells": [
  {
   "cell_type": "code",
   "execution_count": 11,
   "id": "6bcf7dc2-c632-4376-8938-d04df4646d34",
   "metadata": {},
   "outputs": [],
   "source": [
    "import requests\n",
    "import json\n",
    "import random\n",
    "from requests.auth import HTTPBasicAuth\n",
    "import mysql.connector\n",
    "import os\n",
    "import sys\n",
    "import numpy as np\n",
    "import datetime"
   ]
  },
  {
   "cell_type": "code",
   "execution_count": 12,
   "id": "935a7e25-7e77-45f2-8c2c-6d66f06ec7d0",
   "metadata": {},
   "outputs": [],
   "source": [
    "def connect_server():\n",
    "    try:\n",
    "        connection = mysql.connector.connect(option_files=\"connection.ini\")\n",
    "    except mysql.connector.Error as err:\n",
    "        print(err.errno)\n",
    "    return connection"
   ]
  },
  {
   "cell_type": "code",
   "execution_count": 13,
   "id": "96bd7d5a-c991-411e-ba7d-765bb384a5a6",
   "metadata": {},
   "outputs": [],
   "source": [
    "def disconnect_server(connection):\n",
    "    if connection.is_connected():\n",
    "        connection.close()"
   ]
  },
  {
   "cell_type": "code",
   "execution_count": 14,
   "id": "208210cd-f9b5-46af-8b92-b5d3bcfcf69b",
   "metadata": {},
   "outputs": [],
   "source": [
    "def use_database(database,connection,cursor=None):\n",
    "    needcursor = cursor == None\n",
    "   \n",
    "    try:\n",
    "        if needcursor:\n",
    "            cursor = connection.cursor()\n",
    "            cursor.execute(f\"USE {database}\")\n",
    "            connection.commit()\n",
    "        if needcursor:\n",
    "            cursor.close()\n",
    "    \n",
    "    except mysql.connector.Error as err:\n",
    "        print(err.errno)"
   ]
  },
  {
   "cell_type": "code",
   "execution_count": 15,
   "id": "d4deef7c-bc93-4d6e-818a-0eb7c604103a",
   "metadata": {},
   "outputs": [],
   "source": [
    "def count_tran_article_entries ():\n",
    "    connection = connect_server()\n",
    "    cursor = connection.cursor()\n",
    "    use_database(\"automated_journalist\",connection)\n",
    "    \n",
    "    query = ('SELECT idtran_article FROM tran_article')\n",
    "    cursor.execute(query)\n",
    "    result = cursor.fetchall()\n",
    "    cursor.close()\n",
    "    disconnect_server(connection)\n",
    "    return len(result)"
   ]
  },
  {
   "cell_type": "code",
   "execution_count": 16,
   "id": "f124251c-1fc8-42ca-8950-3329d1a8761d",
   "metadata": {},
   "outputs": [],
   "source": [
    "def retrieve_tran_article (idtran_article):\n",
    "    connection = connect_server()\n",
    "    cursor = connection.cursor()\n",
    "    use_database(\"automated_journalist\",connection)\n",
    "    \n",
    "    query = ('SELECT tran_article_text FROM tran_article WHERE idtran_article = %s')\n",
    "    val = ([idtran_article])\n",
    "    cursor.execute(query,val)\n",
    "    result = cursor.fetchall()\n",
    "    cursor.close()\n",
    "    disconnect_server(connection)\n",
    "    return result[0][0]"
   ]
  },
  {
   "cell_type": "code",
   "execution_count": 7,
   "id": "181405d0-5753-488e-9896-1364d15537a1",
   "metadata": {},
   "outputs": [
    {
     "data": {
      "text/plain": [
       "'Chef Rafa Jiménez Garrido from the School of Healthy and Sustainable Cooking Karuna will be offering a showcooking with organic food on Friday, May 12th at 12:00 pm at the Enogastronomic Laboratory of the University of Malaga. The event is part of the XXX Technical Days of the Spanish Society of Organic Agriculture and Agroecology (SEAE) and is aimed at students of Tourism, Gastronomy, Nutrition and similar degrees. The initiative, called \"Communicating Food: Communication Initiatives to Promote the 2030 Agenda,\" invites future chefs and nutritionists to \"care for the climate from the kitchen\" and to show the benefits of organic food in achieving the Sustainable Development Goals, particularly goals 12 and 13. Chef Rafa Jiménez Garrido, known for his energy and passion, will showcase the benefits of using organic food for the health of people, the planet and the taste of our dishes. The event is free and can be followed on Instagram: @comunicaquealimenta.'"
      ]
     },
     "execution_count": 7,
     "metadata": {},
     "output_type": "execute_result"
    }
   ],
   "source": [
    "retrieve_tran_article (1)"
   ]
  },
  {
   "cell_type": "code",
   "execution_count": 8,
   "id": "19c1fc02-492f-4374-8369-71c9a4c8e87b",
   "metadata": {},
   "outputs": [],
   "source": [
    "def retrieve_tran_title (idtran_article):\n",
    "    connection = connect_server()\n",
    "    cursor = connection.cursor()\n",
    "    use_database(\"automated_journalist\",connection)\n",
    "    \n",
    "    query = ('SELECT title FROM tran_article WHERE idtran_article = %s')\n",
    "    val = ([idtran_article])\n",
    "    cursor.execute(query,val)\n",
    "    result = cursor.fetchall()\n",
    "    cursor.close()\n",
    "    disconnect_server(connection)\n",
    "    return result[0][0]"
   ]
  },
  {
   "cell_type": "code",
   "execution_count": 10,
   "id": "552fe714-ab83-4682-9366-83c378a05471",
   "metadata": {},
   "outputs": [
    {
     "data": {
      "text/plain": [
       "'IFOAM Organics Europe calls for better methods to assess environmental impact'"
      ]
     },
     "execution_count": 10,
     "metadata": {},
     "output_type": "execute_result"
    }
   ],
   "source": [
    "retrieve_tran_title (42)"
   ]
  },
  {
   "cell_type": "code",
   "execution_count": 48,
   "id": "8100808a-f330-4a17-854f-2f1608072dde",
   "metadata": {},
   "outputs": [
    {
     "data": {
      "text/plain": [
       "42"
      ]
     },
     "execution_count": 49,
     "metadata": {},
     "output_type": "execute_result"
    }
   ],
   "source": [
    "count_tran_article_entries ()"
   ]
  },
  {
   "cell_type": "code",
   "execution_count": 1,
   "id": "663247e2-d364-4d4c-af89-cac58109a2f9",
   "metadata": {},
   "outputs": [],
   "source": [
    "login=open(\"wp.txt\", \"r\").read()"
   ]
  },
  {
   "cell_type": "code",
   "execution_count": 8,
   "id": "5e6a6e41-cc1e-46ad-9e48-034c1c2a56e1",
   "metadata": {},
   "outputs": [],
   "source": [
    "def write_wp_article(idtran_article):\n",
    "    WP_url = \"https://localhost/wordpress/wp-json/wp/v2/posts\"\n",
    "    auth = HTTPBasicAuth(login)\n",
    "\n",
    "    headers = {\n",
    "        \"Accept\": \"application/json\",\n",
    "        \"Content-Type\": \"application/json\"\n",
    "    }\n",
    "\n",
    "    payload = json.dumps({ \n",
    "        \"status\":\"publish\",\n",
    "        \"title\": retrieve_tran_title (idtran_article),\n",
    "        \"content\": retrieve_tran_article (idtran_article)\n",
    "    })\n",
    "\n",
    "\n",
    "    response = requests.request(\n",
    "    \"POST\",\n",
    "    WP_url,\n",
    "    data=payload,\n",
    "    headers=headers,\n",
    "    auth=auth,\n",
    "    verify=False\n",
    "    )\n"
   ]
  },
  {
   "cell_type": "code",
   "execution_count": 51,
   "id": "dd5e8d56-a290-427e-8078-909b15be359f",
   "metadata": {},
   "outputs": [
    {
     "name": "stderr",
     "output_type": "stream",
     "text": [
      "C:\\Users\\frede\\.conda\\envs\\Ironhack\\lib\\site-packages\\urllib3\\connectionpool.py:1045: InsecureRequestWarning: Unverified HTTPS request is being made to host 'localhost'. Adding certificate verification is strongly advised. See: https://urllib3.readthedocs.io/en/1.26.x/advanced-usage.html#ssl-warnings\n",
      "  warnings.warn(\n"
     ]
    },
    {
     "name": "stdout",
     "output_type": "stream",
     "text": [
      "<Response [201]>\n"
     ]
    },
    {
     "name": "stderr",
     "output_type": "stream",
     "text": [
      "C:\\Users\\frede\\.conda\\envs\\Ironhack\\lib\\site-packages\\urllib3\\connectionpool.py:1045: InsecureRequestWarning: Unverified HTTPS request is being made to host 'localhost'. Adding certificate verification is strongly advised. See: https://urllib3.readthedocs.io/en/1.26.x/advanced-usage.html#ssl-warnings\n",
      "  warnings.warn(\n"
     ]
    },
    {
     "name": "stdout",
     "output_type": "stream",
     "text": [
      "<Response [201]>\n",
      "<Response [201]>\n"
     ]
    },
    {
     "name": "stderr",
     "output_type": "stream",
     "text": [
      "C:\\Users\\frede\\.conda\\envs\\Ironhack\\lib\\site-packages\\urllib3\\connectionpool.py:1045: InsecureRequestWarning: Unverified HTTPS request is being made to host 'localhost'. Adding certificate verification is strongly advised. See: https://urllib3.readthedocs.io/en/1.26.x/advanced-usage.html#ssl-warnings\n",
      "  warnings.warn(\n",
      "C:\\Users\\frede\\.conda\\envs\\Ironhack\\lib\\site-packages\\urllib3\\connectionpool.py:1045: InsecureRequestWarning: Unverified HTTPS request is being made to host 'localhost'. Adding certificate verification is strongly advised. See: https://urllib3.readthedocs.io/en/1.26.x/advanced-usage.html#ssl-warnings\n",
      "  warnings.warn(\n"
     ]
    },
    {
     "name": "stdout",
     "output_type": "stream",
     "text": [
      "<Response [201]>\n"
     ]
    },
    {
     "name": "stderr",
     "output_type": "stream",
     "text": [
      "C:\\Users\\frede\\.conda\\envs\\Ironhack\\lib\\site-packages\\urllib3\\connectionpool.py:1045: InsecureRequestWarning: Unverified HTTPS request is being made to host 'localhost'. Adding certificate verification is strongly advised. See: https://urllib3.readthedocs.io/en/1.26.x/advanced-usage.html#ssl-warnings\n",
      "  warnings.warn(\n"
     ]
    },
    {
     "name": "stdout",
     "output_type": "stream",
     "text": [
      "<Response [201]>\n"
     ]
    },
    {
     "name": "stderr",
     "output_type": "stream",
     "text": [
      "C:\\Users\\frede\\.conda\\envs\\Ironhack\\lib\\site-packages\\urllib3\\connectionpool.py:1045: InsecureRequestWarning: Unverified HTTPS request is being made to host 'localhost'. Adding certificate verification is strongly advised. See: https://urllib3.readthedocs.io/en/1.26.x/advanced-usage.html#ssl-warnings\n",
      "  warnings.warn(\n"
     ]
    },
    {
     "name": "stdout",
     "output_type": "stream",
     "text": [
      "<Response [201]>\n",
      "<Response [201]>\n"
     ]
    },
    {
     "name": "stderr",
     "output_type": "stream",
     "text": [
      "C:\\Users\\frede\\.conda\\envs\\Ironhack\\lib\\site-packages\\urllib3\\connectionpool.py:1045: InsecureRequestWarning: Unverified HTTPS request is being made to host 'localhost'. Adding certificate verification is strongly advised. See: https://urllib3.readthedocs.io/en/1.26.x/advanced-usage.html#ssl-warnings\n",
      "  warnings.warn(\n",
      "C:\\Users\\frede\\.conda\\envs\\Ironhack\\lib\\site-packages\\urllib3\\connectionpool.py:1045: InsecureRequestWarning: Unverified HTTPS request is being made to host 'localhost'. Adding certificate verification is strongly advised. See: https://urllib3.readthedocs.io/en/1.26.x/advanced-usage.html#ssl-warnings\n",
      "  warnings.warn(\n"
     ]
    },
    {
     "name": "stdout",
     "output_type": "stream",
     "text": [
      "<Response [201]>\n",
      "<Response [201]>\n"
     ]
    },
    {
     "name": "stderr",
     "output_type": "stream",
     "text": [
      "C:\\Users\\frede\\.conda\\envs\\Ironhack\\lib\\site-packages\\urllib3\\connectionpool.py:1045: InsecureRequestWarning: Unverified HTTPS request is being made to host 'localhost'. Adding certificate verification is strongly advised. See: https://urllib3.readthedocs.io/en/1.26.x/advanced-usage.html#ssl-warnings\n",
      "  warnings.warn(\n",
      "C:\\Users\\frede\\.conda\\envs\\Ironhack\\lib\\site-packages\\urllib3\\connectionpool.py:1045: InsecureRequestWarning: Unverified HTTPS request is being made to host 'localhost'. Adding certificate verification is strongly advised. See: https://urllib3.readthedocs.io/en/1.26.x/advanced-usage.html#ssl-warnings\n",
      "  warnings.warn(\n"
     ]
    },
    {
     "name": "stdout",
     "output_type": "stream",
     "text": [
      "<Response [201]>\n"
     ]
    },
    {
     "name": "stderr",
     "output_type": "stream",
     "text": [
      "C:\\Users\\frede\\.conda\\envs\\Ironhack\\lib\\site-packages\\urllib3\\connectionpool.py:1045: InsecureRequestWarning: Unverified HTTPS request is being made to host 'localhost'. Adding certificate verification is strongly advised. See: https://urllib3.readthedocs.io/en/1.26.x/advanced-usage.html#ssl-warnings\n",
      "  warnings.warn(\n"
     ]
    },
    {
     "name": "stdout",
     "output_type": "stream",
     "text": [
      "<Response [201]>\n"
     ]
    },
    {
     "name": "stderr",
     "output_type": "stream",
     "text": [
      "C:\\Users\\frede\\.conda\\envs\\Ironhack\\lib\\site-packages\\urllib3\\connectionpool.py:1045: InsecureRequestWarning: Unverified HTTPS request is being made to host 'localhost'. Adding certificate verification is strongly advised. See: https://urllib3.readthedocs.io/en/1.26.x/advanced-usage.html#ssl-warnings\n",
      "  warnings.warn(\n"
     ]
    },
    {
     "name": "stdout",
     "output_type": "stream",
     "text": [
      "<Response [201]>\n"
     ]
    },
    {
     "name": "stderr",
     "output_type": "stream",
     "text": [
      "C:\\Users\\frede\\.conda\\envs\\Ironhack\\lib\\site-packages\\urllib3\\connectionpool.py:1045: InsecureRequestWarning: Unverified HTTPS request is being made to host 'localhost'. Adding certificate verification is strongly advised. See: https://urllib3.readthedocs.io/en/1.26.x/advanced-usage.html#ssl-warnings\n",
      "  warnings.warn(\n"
     ]
    },
    {
     "name": "stdout",
     "output_type": "stream",
     "text": [
      "<Response [201]>\n"
     ]
    },
    {
     "name": "stderr",
     "output_type": "stream",
     "text": [
      "C:\\Users\\frede\\.conda\\envs\\Ironhack\\lib\\site-packages\\urllib3\\connectionpool.py:1045: InsecureRequestWarning: Unverified HTTPS request is being made to host 'localhost'. Adding certificate verification is strongly advised. See: https://urllib3.readthedocs.io/en/1.26.x/advanced-usage.html#ssl-warnings\n",
      "  warnings.warn(\n"
     ]
    },
    {
     "name": "stdout",
     "output_type": "stream",
     "text": [
      "<Response [201]>\n"
     ]
    },
    {
     "name": "stderr",
     "output_type": "stream",
     "text": [
      "C:\\Users\\frede\\.conda\\envs\\Ironhack\\lib\\site-packages\\urllib3\\connectionpool.py:1045: InsecureRequestWarning: Unverified HTTPS request is being made to host 'localhost'. Adding certificate verification is strongly advised. See: https://urllib3.readthedocs.io/en/1.26.x/advanced-usage.html#ssl-warnings\n",
      "  warnings.warn(\n"
     ]
    },
    {
     "name": "stdout",
     "output_type": "stream",
     "text": [
      "<Response [201]>\n"
     ]
    },
    {
     "name": "stderr",
     "output_type": "stream",
     "text": [
      "C:\\Users\\frede\\.conda\\envs\\Ironhack\\lib\\site-packages\\urllib3\\connectionpool.py:1045: InsecureRequestWarning: Unverified HTTPS request is being made to host 'localhost'. Adding certificate verification is strongly advised. See: https://urllib3.readthedocs.io/en/1.26.x/advanced-usage.html#ssl-warnings\n",
      "  warnings.warn(\n"
     ]
    },
    {
     "name": "stdout",
     "output_type": "stream",
     "text": [
      "<Response [201]>\n"
     ]
    },
    {
     "name": "stderr",
     "output_type": "stream",
     "text": [
      "C:\\Users\\frede\\.conda\\envs\\Ironhack\\lib\\site-packages\\urllib3\\connectionpool.py:1045: InsecureRequestWarning: Unverified HTTPS request is being made to host 'localhost'. Adding certificate verification is strongly advised. See: https://urllib3.readthedocs.io/en/1.26.x/advanced-usage.html#ssl-warnings\n",
      "  warnings.warn(\n"
     ]
    },
    {
     "name": "stdout",
     "output_type": "stream",
     "text": [
      "<Response [201]>\n"
     ]
    },
    {
     "name": "stderr",
     "output_type": "stream",
     "text": [
      "C:\\Users\\frede\\.conda\\envs\\Ironhack\\lib\\site-packages\\urllib3\\connectionpool.py:1045: InsecureRequestWarning: Unverified HTTPS request is being made to host 'localhost'. Adding certificate verification is strongly advised. See: https://urllib3.readthedocs.io/en/1.26.x/advanced-usage.html#ssl-warnings\n",
      "  warnings.warn(\n"
     ]
    },
    {
     "name": "stdout",
     "output_type": "stream",
     "text": [
      "<Response [201]>\n"
     ]
    },
    {
     "name": "stderr",
     "output_type": "stream",
     "text": [
      "C:\\Users\\frede\\.conda\\envs\\Ironhack\\lib\\site-packages\\urllib3\\connectionpool.py:1045: InsecureRequestWarning: Unverified HTTPS request is being made to host 'localhost'. Adding certificate verification is strongly advised. See: https://urllib3.readthedocs.io/en/1.26.x/advanced-usage.html#ssl-warnings\n",
      "  warnings.warn(\n"
     ]
    },
    {
     "name": "stdout",
     "output_type": "stream",
     "text": [
      "<Response [201]>\n"
     ]
    },
    {
     "name": "stderr",
     "output_type": "stream",
     "text": [
      "C:\\Users\\frede\\.conda\\envs\\Ironhack\\lib\\site-packages\\urllib3\\connectionpool.py:1045: InsecureRequestWarning: Unverified HTTPS request is being made to host 'localhost'. Adding certificate verification is strongly advised. See: https://urllib3.readthedocs.io/en/1.26.x/advanced-usage.html#ssl-warnings\n",
      "  warnings.warn(\n"
     ]
    },
    {
     "name": "stdout",
     "output_type": "stream",
     "text": [
      "<Response [201]>\n"
     ]
    },
    {
     "name": "stderr",
     "output_type": "stream",
     "text": [
      "C:\\Users\\frede\\.conda\\envs\\Ironhack\\lib\\site-packages\\urllib3\\connectionpool.py:1045: InsecureRequestWarning: Unverified HTTPS request is being made to host 'localhost'. Adding certificate verification is strongly advised. See: https://urllib3.readthedocs.io/en/1.26.x/advanced-usage.html#ssl-warnings\n",
      "  warnings.warn(\n"
     ]
    },
    {
     "name": "stdout",
     "output_type": "stream",
     "text": [
      "<Response [201]>\n"
     ]
    },
    {
     "name": "stderr",
     "output_type": "stream",
     "text": [
      "C:\\Users\\frede\\.conda\\envs\\Ironhack\\lib\\site-packages\\urllib3\\connectionpool.py:1045: InsecureRequestWarning: Unverified HTTPS request is being made to host 'localhost'. Adding certificate verification is strongly advised. See: https://urllib3.readthedocs.io/en/1.26.x/advanced-usage.html#ssl-warnings\n",
      "  warnings.warn(\n"
     ]
    },
    {
     "name": "stdout",
     "output_type": "stream",
     "text": [
      "<Response [201]>\n"
     ]
    },
    {
     "name": "stderr",
     "output_type": "stream",
     "text": [
      "C:\\Users\\frede\\.conda\\envs\\Ironhack\\lib\\site-packages\\urllib3\\connectionpool.py:1045: InsecureRequestWarning: Unverified HTTPS request is being made to host 'localhost'. Adding certificate verification is strongly advised. See: https://urllib3.readthedocs.io/en/1.26.x/advanced-usage.html#ssl-warnings\n",
      "  warnings.warn(\n"
     ]
    },
    {
     "name": "stdout",
     "output_type": "stream",
     "text": [
      "<Response [201]>\n"
     ]
    },
    {
     "name": "stderr",
     "output_type": "stream",
     "text": [
      "C:\\Users\\frede\\.conda\\envs\\Ironhack\\lib\\site-packages\\urllib3\\connectionpool.py:1045: InsecureRequestWarning: Unverified HTTPS request is being made to host 'localhost'. Adding certificate verification is strongly advised. See: https://urllib3.readthedocs.io/en/1.26.x/advanced-usage.html#ssl-warnings\n",
      "  warnings.warn(\n"
     ]
    },
    {
     "name": "stdout",
     "output_type": "stream",
     "text": [
      "<Response [201]>\n"
     ]
    },
    {
     "name": "stderr",
     "output_type": "stream",
     "text": [
      "C:\\Users\\frede\\.conda\\envs\\Ironhack\\lib\\site-packages\\urllib3\\connectionpool.py:1045: InsecureRequestWarning: Unverified HTTPS request is being made to host 'localhost'. Adding certificate verification is strongly advised. See: https://urllib3.readthedocs.io/en/1.26.x/advanced-usage.html#ssl-warnings\n",
      "  warnings.warn(\n"
     ]
    },
    {
     "name": "stdout",
     "output_type": "stream",
     "text": [
      "<Response [201]>\n"
     ]
    },
    {
     "name": "stderr",
     "output_type": "stream",
     "text": [
      "C:\\Users\\frede\\.conda\\envs\\Ironhack\\lib\\site-packages\\urllib3\\connectionpool.py:1045: InsecureRequestWarning: Unverified HTTPS request is being made to host 'localhost'. Adding certificate verification is strongly advised. See: https://urllib3.readthedocs.io/en/1.26.x/advanced-usage.html#ssl-warnings\n",
      "  warnings.warn(\n"
     ]
    },
    {
     "name": "stdout",
     "output_type": "stream",
     "text": [
      "<Response [201]>\n"
     ]
    },
    {
     "name": "stderr",
     "output_type": "stream",
     "text": [
      "C:\\Users\\frede\\.conda\\envs\\Ironhack\\lib\\site-packages\\urllib3\\connectionpool.py:1045: InsecureRequestWarning: Unverified HTTPS request is being made to host 'localhost'. Adding certificate verification is strongly advised. See: https://urllib3.readthedocs.io/en/1.26.x/advanced-usage.html#ssl-warnings\n",
      "  warnings.warn(\n"
     ]
    },
    {
     "name": "stdout",
     "output_type": "stream",
     "text": [
      "<Response [201]>\n"
     ]
    },
    {
     "name": "stderr",
     "output_type": "stream",
     "text": [
      "C:\\Users\\frede\\.conda\\envs\\Ironhack\\lib\\site-packages\\urllib3\\connectionpool.py:1045: InsecureRequestWarning: Unverified HTTPS request is being made to host 'localhost'. Adding certificate verification is strongly advised. See: https://urllib3.readthedocs.io/en/1.26.x/advanced-usage.html#ssl-warnings\n",
      "  warnings.warn(\n"
     ]
    },
    {
     "name": "stdout",
     "output_type": "stream",
     "text": [
      "<Response [201]>\n"
     ]
    },
    {
     "name": "stderr",
     "output_type": "stream",
     "text": [
      "C:\\Users\\frede\\.conda\\envs\\Ironhack\\lib\\site-packages\\urllib3\\connectionpool.py:1045: InsecureRequestWarning: Unverified HTTPS request is being made to host 'localhost'. Adding certificate verification is strongly advised. See: https://urllib3.readthedocs.io/en/1.26.x/advanced-usage.html#ssl-warnings\n",
      "  warnings.warn(\n"
     ]
    },
    {
     "name": "stdout",
     "output_type": "stream",
     "text": [
      "<Response [201]>\n"
     ]
    },
    {
     "name": "stderr",
     "output_type": "stream",
     "text": [
      "C:\\Users\\frede\\.conda\\envs\\Ironhack\\lib\\site-packages\\urllib3\\connectionpool.py:1045: InsecureRequestWarning: Unverified HTTPS request is being made to host 'localhost'. Adding certificate verification is strongly advised. See: https://urllib3.readthedocs.io/en/1.26.x/advanced-usage.html#ssl-warnings\n",
      "  warnings.warn(\n"
     ]
    },
    {
     "name": "stdout",
     "output_type": "stream",
     "text": [
      "<Response [201]>\n"
     ]
    },
    {
     "name": "stderr",
     "output_type": "stream",
     "text": [
      "C:\\Users\\frede\\.conda\\envs\\Ironhack\\lib\\site-packages\\urllib3\\connectionpool.py:1045: InsecureRequestWarning: Unverified HTTPS request is being made to host 'localhost'. Adding certificate verification is strongly advised. See: https://urllib3.readthedocs.io/en/1.26.x/advanced-usage.html#ssl-warnings\n",
      "  warnings.warn(\n"
     ]
    },
    {
     "name": "stdout",
     "output_type": "stream",
     "text": [
      "<Response [201]>\n"
     ]
    },
    {
     "name": "stderr",
     "output_type": "stream",
     "text": [
      "C:\\Users\\frede\\.conda\\envs\\Ironhack\\lib\\site-packages\\urllib3\\connectionpool.py:1045: InsecureRequestWarning: Unverified HTTPS request is being made to host 'localhost'. Adding certificate verification is strongly advised. See: https://urllib3.readthedocs.io/en/1.26.x/advanced-usage.html#ssl-warnings\n",
      "  warnings.warn(\n"
     ]
    },
    {
     "name": "stdout",
     "output_type": "stream",
     "text": [
      "<Response [201]>\n"
     ]
    },
    {
     "name": "stderr",
     "output_type": "stream",
     "text": [
      "C:\\Users\\frede\\.conda\\envs\\Ironhack\\lib\\site-packages\\urllib3\\connectionpool.py:1045: InsecureRequestWarning: Unverified HTTPS request is being made to host 'localhost'. Adding certificate verification is strongly advised. See: https://urllib3.readthedocs.io/en/1.26.x/advanced-usage.html#ssl-warnings\n",
      "  warnings.warn(\n"
     ]
    },
    {
     "name": "stdout",
     "output_type": "stream",
     "text": [
      "<Response [201]>\n"
     ]
    },
    {
     "name": "stderr",
     "output_type": "stream",
     "text": [
      "C:\\Users\\frede\\.conda\\envs\\Ironhack\\lib\\site-packages\\urllib3\\connectionpool.py:1045: InsecureRequestWarning: Unverified HTTPS request is being made to host 'localhost'. Adding certificate verification is strongly advised. See: https://urllib3.readthedocs.io/en/1.26.x/advanced-usage.html#ssl-warnings\n",
      "  warnings.warn(\n"
     ]
    },
    {
     "name": "stdout",
     "output_type": "stream",
     "text": [
      "<Response [201]>\n",
      "<Response [201]>\n"
     ]
    },
    {
     "name": "stderr",
     "output_type": "stream",
     "text": [
      "C:\\Users\\frede\\.conda\\envs\\Ironhack\\lib\\site-packages\\urllib3\\connectionpool.py:1045: InsecureRequestWarning: Unverified HTTPS request is being made to host 'localhost'. Adding certificate verification is strongly advised. See: https://urllib3.readthedocs.io/en/1.26.x/advanced-usage.html#ssl-warnings\n",
      "  warnings.warn(\n",
      "C:\\Users\\frede\\.conda\\envs\\Ironhack\\lib\\site-packages\\urllib3\\connectionpool.py:1045: InsecureRequestWarning: Unverified HTTPS request is being made to host 'localhost'. Adding certificate verification is strongly advised. See: https://urllib3.readthedocs.io/en/1.26.x/advanced-usage.html#ssl-warnings\n",
      "  warnings.warn(\n"
     ]
    },
    {
     "name": "stdout",
     "output_type": "stream",
     "text": [
      "<Response [201]>\n"
     ]
    },
    {
     "name": "stderr",
     "output_type": "stream",
     "text": [
      "C:\\Users\\frede\\.conda\\envs\\Ironhack\\lib\\site-packages\\urllib3\\connectionpool.py:1045: InsecureRequestWarning: Unverified HTTPS request is being made to host 'localhost'. Adding certificate verification is strongly advised. See: https://urllib3.readthedocs.io/en/1.26.x/advanced-usage.html#ssl-warnings\n",
      "  warnings.warn(\n"
     ]
    },
    {
     "name": "stdout",
     "output_type": "stream",
     "text": [
      "<Response [201]>\n"
     ]
    },
    {
     "name": "stderr",
     "output_type": "stream",
     "text": [
      "C:\\Users\\frede\\.conda\\envs\\Ironhack\\lib\\site-packages\\urllib3\\connectionpool.py:1045: InsecureRequestWarning: Unverified HTTPS request is being made to host 'localhost'. Adding certificate verification is strongly advised. See: https://urllib3.readthedocs.io/en/1.26.x/advanced-usage.html#ssl-warnings\n",
      "  warnings.warn(\n"
     ]
    },
    {
     "name": "stdout",
     "output_type": "stream",
     "text": [
      "<Response [201]>\n"
     ]
    },
    {
     "name": "stderr",
     "output_type": "stream",
     "text": [
      "C:\\Users\\frede\\.conda\\envs\\Ironhack\\lib\\site-packages\\urllib3\\connectionpool.py:1045: InsecureRequestWarning: Unverified HTTPS request is being made to host 'localhost'. Adding certificate verification is strongly advised. See: https://urllib3.readthedocs.io/en/1.26.x/advanced-usage.html#ssl-warnings\n",
      "  warnings.warn(\n"
     ]
    },
    {
     "name": "stdout",
     "output_type": "stream",
     "text": [
      "<Response [201]>\n"
     ]
    },
    {
     "name": "stderr",
     "output_type": "stream",
     "text": [
      "C:\\Users\\frede\\.conda\\envs\\Ironhack\\lib\\site-packages\\urllib3\\connectionpool.py:1045: InsecureRequestWarning: Unverified HTTPS request is being made to host 'localhost'. Adding certificate verification is strongly advised. See: https://urllib3.readthedocs.io/en/1.26.x/advanced-usage.html#ssl-warnings\n",
      "  warnings.warn(\n"
     ]
    },
    {
     "name": "stdout",
     "output_type": "stream",
     "text": [
      "<Response [201]>\n",
      "<Response [201]>\n"
     ]
    },
    {
     "name": "stderr",
     "output_type": "stream",
     "text": [
      "C:\\Users\\frede\\.conda\\envs\\Ironhack\\lib\\site-packages\\urllib3\\connectionpool.py:1045: InsecureRequestWarning: Unverified HTTPS request is being made to host 'localhost'. Adding certificate verification is strongly advised. See: https://urllib3.readthedocs.io/en/1.26.x/advanced-usage.html#ssl-warnings\n",
      "  warnings.warn(\n"
     ]
    }
   ],
   "source": [
    "for i in range(1,count_tran_article_entries ()):\n",
    "    write_wp_article(i)"
   ]
  },
  {
   "cell_type": "code",
   "execution_count": 17,
   "id": "1ba728f9-b4f9-4ca3-b03e-aa15e86f67b9",
   "metadata": {},
   "outputs": [],
   "source": [
    "def retrieve_tran_titles (idtran_article):\n",
    "    connection = connect_server()\n",
    "    cursor = connection.cursor()\n",
    "    use_database(\"automated_journalist\",connection)\n",
    "    \n",
    "    query = ('SELECT title FROM tran_article WHERE idtran_article = %s')\n",
    "    val = ([idtran_article])\n",
    "    cursor.execute(query,val)\n",
    "    result = cursor.fetchall()\n",
    "    cursor.close()\n",
    "    disconnect_server(connection)\n",
    "    return result[0][0]"
   ]
  },
  {
   "cell_type": "code",
   "execution_count": 19,
   "id": "563b8cf7-0ba4-4eb7-8f62-f76339b228c7",
   "metadata": {},
   "outputs": [],
   "source": [
    "titles=[]\n",
    "for i in range(1,count_tran_article_entries ()):\n",
    "    titles.append(retrieve_tran_titles (i))"
   ]
  },
  {
   "cell_type": "code",
   "execution_count": 20,
   "id": "0b6f9aad-390b-4548-8ad5-f65dd26e821e",
   "metadata": {},
   "outputs": [
    {
     "data": {
      "text/plain": [
       "['Organic Chef Showcases Benefits of Sustainable Cooking at University Event',\n",
       " \"Revolutionary 'Method Hérody' Book Unveiled for Soil Optimization Techniques\",\n",
       " 'Join the Open Forum: Navigating Emotions in Agroecological Transition',\n",
       " 'Join the First Conference on Biodistricts for Rural Development',\n",
       " 'Catalan Organic Sector Demands Urgent Creation of Local Label',\n",
       " 'SEAE develops interactive map to promote sustainable development',\n",
       " 'Alianza por el Clima demands wider public participation in PNIEC.',\n",
       " 'Spanish Conference to Discuss Resilient Food Systems and Agroecology',\n",
       " 'Stop Industrial Pesticides: Protecting Our Health and the Planet',\n",
       " \"Present Your Agroecological Project at SEAE's Technical Conference\",\n",
       " 'Organic Learning Days: Mastering the Principles of Sustainability',\n",
       " 'Economist Sustainability Summit: Organic Farming Key to Climate Mitigation',\n",
       " 'Soil Association\\'s \"Taking the Biscuit\" campaign tackles UPF over-consumption.',\n",
       " 'BOOM Awards 2023: Highly Competitive Judging Season Begins!',\n",
       " 'Join the movement: Get Dirty for Nature this World Soil Day!',\n",
       " '2023 Organic Market Report: Plan Your Growth Strategy Now!',\n",
       " 'Soil Association Certification fights Genetic Technologies Bill risks.',\n",
       " 'Organic industry demands compensation fund for pesticide contamination costs.',\n",
       " 'Customers remain loyal to organic stores despite record inflation',\n",
       " \"BNN celebrates 40th anniversary at world's leading organic trade fair\",\n",
       " \"EU postpones 'Green Claims' directive draft amid sustainability concerns\",\n",
       " 'Planet-Score: The Best Label for Transparently Evaluating Food Sustainability',\n",
       " 'Guaranteeing the Right to Organic: Securing Farm Succession and Transition',\n",
       " 'Agence BIO broadens governance to tackle organic market challenges.',\n",
       " \"French Consumers' Mistrust of Organic Labels on the Rise.\",\n",
       " 'Organic Products Consumption on the Rise in France: Study',\n",
       " \"Discover France's Organic Agriculture with Agence BIO's CartoBio Map\",\n",
       " 'French Court of Auditors recommends stronger support for organic farming',\n",
       " 'French Organic Agencies Launch #BioRéflexe Campaign to Promote Organic Habits',\n",
       " 'French Organic Market Remains Resilient Amid Challenging Landscape',\n",
       " 'Record-breaking organic congress unites EU, French, and Ukrainian sectors',\n",
       " \"Printemps BIO 2022: Discover Organic Agriculture in France's National Event\",\n",
       " 'IFOAM supports initiative to fight greenwashing in organic industry',\n",
       " 'IFOAM and Diversified renew partnership to advance sustainable organic growth',\n",
       " 'Study finds synthetic pesticides significantly more hazardous than natural ones',\n",
       " 'EU Organic Movement Warns Against Greenwashing in Food Industry',\n",
       " 'Organic industry sues companies over misleading environmental food labeling.',\n",
       " 'EU Organic Movement Sues Companies Over Misleading Environmental Labelling.',\n",
       " 'OrganicTargets4EU: A New Project to Transform European Agriculture',\n",
       " 'Farm Ministers Threaten EU Pesticide Cuts, Endangering Environment and Health.',\n",
       " \"Organic farmers raise concerns about Commission's carbon removal certification proposal\"]"
      ]
     },
     "execution_count": 20,
     "metadata": {},
     "output_type": "execute_result"
    }
   ],
   "source": [
    "titles"
   ]
  },
  {
   "cell_type": "code",
   "execution_count": null,
   "id": "e011b68a-ccd0-40db-a2fa-0accde17349d",
   "metadata": {},
   "outputs": [],
   "source": []
  }
 ],
 "metadata": {
  "kernelspec": {
   "display_name": "Python 3 (ipykernel)",
   "language": "python",
   "name": "python3"
  },
  "language_info": {
   "codemirror_mode": {
    "name": "ipython",
    "version": 3
   },
   "file_extension": ".py",
   "mimetype": "text/x-python",
   "name": "python",
   "nbconvert_exporter": "python",
   "pygments_lexer": "ipython3",
   "version": "3.9.13"
  }
 },
 "nbformat": 4,
 "nbformat_minor": 5
}
